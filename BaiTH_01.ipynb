{
  "cells": [
    {
      "cell_type": "markdown",
      "metadata": {
        "id": "view-in-github",
        "colab_type": "text"
      },
      "source": [
        "<a href=\"https://colab.research.google.com/github/nguyenduyquang6122/TH_ma_nguon_mo/blob/main/BaiTH_01.ipynb\" target=\"_parent\"><img src=\"https://colab.research.google.com/assets/colab-badge.svg\" alt=\"Open In Colab\"/></a>"
      ]
    },
    {
      "cell_type": "code",
      "source": [
        "import numpy as np\n",
        "\n",
        "# Nhập số phương trình và số ẩn (n) từ người dùng\n",
        "while True:\n",
        "    try:\n",
        "        n = int(input(\"Nhập số phương trình và số ẩn (n): \"))\n",
        "        if n >= 2:\n",
        "            break\n",
        "        else:\n",
        "            print(\"Đây không phải hệ phương trình, vui lòng nhập lại.\")\n",
        "    except ValueError:\n",
        "        print(\"Vui lòng nhập một số tự nhiên.\")\n",
        "# Khởi tạo ma trận hệ số A và vector kết quả B\n",
        "A = np.zeros((n, n))\n",
        "B = np.zeros(n)\n",
        "\n",
        "# Nhập ma trận hệ số A\n",
        "print(\"Nhập ma trận hệ số A:\")\n",
        "for i in range(n):\n",
        "    for j in range(n):\n",
        "        A[i][j] = float(input(f\"A[{i + 1}][{j + 1}]: \"))\n",
        "\n",
        "# Nhập vector kết quả B\n",
        "print(\"Nhập vector kết quả B:\")\n",
        "for i in range(n):\n",
        "    B[i] = float(input(f\"B[{i + 1}]: \"))\n",
        "\n",
        "try:\n",
        "    # Kiểm tra trường hợp ma trận A và vector kết quả B đều toàn số 0\n",
        "    # toàn bộ các giá trị đã nhập\n",
        "    if np.all(A == 0) and np.all(B == 0):\n",
        "        print(\"Hệ phương trình vô số nghiệm.\")\n",
        "    else:\n",
        "        # Tính bậc thang của ma trận A\n",
        "        rref_A, _ = np.linalg.qr(A)\n",
        "\n",
        "        # Số cột (hoặc hàng) độc lập tương ứng với bậc thang\n",
        "\n",
        "        num_independent_columns = np.sum(np.abs(np.diag(rref_A)) > 1e-10)\n",
        "\n",
        "        # Số biến tự do\n",
        "        # phụ thuộc vào các thuộc tính của ma trận\n",
        "        num_free_variables = A.shape[1] - num_independent_columns\n",
        "\n",
        "        # Kiểm tra và in kết quả\n",
        "        if num_free_variables > 0:\n",
        "            print(\"Hệ phương trình có vô số nghiệm.\")\n",
        "        elif num_free_variables == 0:\n",
        "            X = np.linalg.solve(A, B)\n",
        "            print(\"Nghiệm của hệ phương trình:\")\n",
        "            for i in range(n):\n",
        "                print(f\"x[{i + 1}] = {X[i]}\")\n",
        "except np.linalg.LinAlgError:\n",
        "    print(\"Hệ phương trình vô nghiệm...\")"
      ],
      "metadata": {
        "id": "KHEOwgq-TkQJ"
      },
      "execution_count": null,
      "outputs": []
    }
  ],
  "metadata": {
    "colab": {
      "toc_visible": true,
      "provenance": [],
      "include_colab_link": true
    },
    "kernelspec": {
      "display_name": "Python 3",
      "name": "python3"
    }
  },
  "nbformat": 4,
  "nbformat_minor": 0
}